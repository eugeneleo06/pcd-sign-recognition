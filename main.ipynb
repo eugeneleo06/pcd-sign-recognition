{
 "cells": [
  {
   "cell_type": "markdown",
   "metadata": {},
   "source": [
    "Naming Explanation :\n",
    "XXXYYZZZ\n",
    "XXX - ID number of a person who has done the signature. \n",
    "YY - Image sample number.\n",
    "ZZZ - ID number of person whose signature is in photo.\n",
    "\n",
    "Example: \n",
    "NFI-00602023 is an image of signature of person number 023 done by person 006. This is a forged signature.\n",
    "NFI-02103021 is an image of signature of person number 021 done by person 021. This is a genuine signature.   "
   ]
  },
  {
   "cell_type": "code",
   "execution_count": 1,
   "metadata": {},
   "outputs": [],
   "source": [
    "#Imports\n",
    "import numpy as np\n",
    "import matplotlib.pyplot as plt\n",
    "import cv2\n",
    "from scipy import ndimage\n",
    "from skimage.filters import threshold_otsu"
   ]
  },
  {
   "cell_type": "code",
   "execution_count": 2,
   "metadata": {},
   "outputs": [],
   "source": [
    "import git\n",
    "repo = git.Repo('.', search_parent_directories=True)"
   ]
  },
  {
   "cell_type": "code",
   "execution_count": 3,
   "metadata": {},
   "outputs": [],
   "source": [
    "#Define Path\n",
    "forge_path = repo.working_tree_dir + \"\\\\forge\"\n",
    "real_path = repo.working_tree_dir + \"\\\\real\""
   ]
  },
  {
   "cell_type": "code",
   "execution_count": 4,
   "metadata": {},
   "outputs": [],
   "source": [
    "#Preprocessing\n",
    "\n",
    "def rgbToGray (img_path):\n",
    "    img = cv2.imread(img_path)\n",
    "    img_gray = cv2.cvtColor(img, cv2.COLOR_BGR2GRAY)\n",
    "\n",
    "    return img_gray\n",
    "\n",
    "def grayToBin(gray_img):\n",
    "\n",
    "    blur_radius = 0.8\n",
    "    img = ndimage.gaussian_filter(gray_img, blur_radius)\n",
    "\n",
    "    thres = threshold_otsu(img)\n",
    "    binimg = img > thres\n",
    "    #binimg = np.logical_not(binimg)\n",
    "    return binimg\n",
    "\n",
    "def preProcessing(image_path) :\n",
    "    grayImg = rgbToGray(image_path)\n",
    "    binaryImg = grayToBin(grayImg)\n",
    "    return binaryImg"
   ]
  },
  {
   "cell_type": "code",
   "execution_count": 7,
   "metadata": {},
   "outputs": [
    {
     "data": {
      "text/plain": [
       "<matplotlib.image.AxesImage at 0x239a23aee60>"
      ]
     },
     "execution_count": 7,
     "metadata": {},
     "output_type": "execute_result"
    },
    {
     "data": {
      "image/png": "[encoded data removed]",
      "text/plain": [
       "<Figure size 432x288 with 1 Axes>"
      ]
     },
     "metadata": {
      "needs_background": "light"
     },
     "output_type": "display_data"
    }
   ],
   "source": [
    "img_path = real_path + \"\\\\00100001.png\"\n",
    "processedImage = preProcessing(img_path)\n",
    "plt.imshow(processedImage, 'gray')"
   ]
  },
  {
   "cell_type": "code",
   "execution_count": null,
   "metadata": {},
   "outputs": [],
   "source": [
    "# Features Used :\n",
    "# Centroid : Center of Image.  In case of a grayscale image you can use the pixels' gray values to calculate the weighted average position.\n",
    "# Ratio ? the ratio of its width to its height\n",
    "# Eccentricity ? a disparity on an image between the centre of the projected object and the projected location of the centre of an object\n",
    "# Solidity ? Solidity is useful to quantify the amount and size of concavities in an object boundary. Holes are also often included\n",
    "# Skewness : meausre of symmetric. if the skewness is negative, the histogram is negatively skewed. The positive skewness is the opposite.\n",
    "# Kurtosis : is the average (or expected value) of the standardized data raised to the fourth power."
   ]
  }
 ],
 "metadata": {
  "interpreter": {
   "hash": "5e0443ce8ca3bfee4b3965b01722dbad2e983897b94569aaa6f08ac32d2b8906"
  },
  "kernelspec": {
   "display_name": "Python 3.9.7 64-bit (windows store)",
   "language": "python",
   "name": "python3"
  },
  "language_info": {
   "codemirror_mode": {
    "name": "ipython",
    "version": 3
   },
   "file_extension": ".py",
   "mimetype": "text/x-python",
   "name": "python",
   "nbconvert_exporter": "python",
   "pygments_lexer": "ipython3",
   "version": "3.10.4"
  },
  "orig_nbformat": 4
 },
 "nbformat": 4,
 "nbformat_minor": 2
}
